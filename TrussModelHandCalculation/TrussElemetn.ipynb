{
 "cells": [
  {
   "cell_type": "markdown",
   "metadata": {},
   "source": [
    "# Hand load evaluation on truss element"
   ]
  },
  {
   "cell_type": "code",
   "execution_count": 43,
   "metadata": {},
   "outputs": [],
   "source": [
    "%reset -f\n",
    "import matplotlib.pyplot as plt\n",
    "import numpy as np\n",
    "import sympy as sym\n",
    "\n",
    "\n"
   ]
  },
  {
   "cell_type": "markdown",
   "metadata": {},
   "source": [
    "Define node points with x,y coordinate and the distance between points"
   ]
  },
  {
   "cell_type": "code",
   "execution_count": 56,
   "metadata": {},
   "outputs": [
    {
     "name": "stdout",
     "output_type": "stream",
     "text": [
      "39.20459156782532\n",
      "[ 0.61217319 -0.79072371]\n"
     ]
    }
   ],
   "source": [
    "#Define all the nodes\n",
    "nodes = {   \n",
    "    \"P1\" : np.array([0,0]),\n",
    "    \"P2\" : np.array([-24,31]),\n",
    "    \"P3\" : np.array([18.69,119.5]),\n",
    "    \"P4\" : np.array([-24,135.25]),\n",
    "    \"P5\" : np.array([20,165]),\n",
    "    \"P6\" : np.array([-24,185.23]),\n",
    "    \"P7\" : np.array([-24,225.53]),\n",
    "    \"P8\" : np.array([40.40,-2.88])\n",
    " }\n",
    "\n",
    "#Calculate distance between nodes and unit vector\n",
    "distances = {}\n",
    "versors ={}\n",
    "\n",
    "for name1, coordinate1 in nodes.items():\n",
    "    for name2, coordinate2 in nodes.items():\n",
    "        if name1 != name2:\n",
    "            distance_name = f\"{name1}{name2}\"  # Naming distances\n",
    "            versor_name = f\"n{name1}{name2}\"   # Naming versors\n",
    "\n",
    "            dist = np.linalg.norm(coordinate1 - coordinate2)\n",
    "            distances[distance_name] = dist\n",
    "\n",
    "            versors[versor_name] = (coordinate1-coordinate2)/dist\n",
    "            \n",
    "#To acess to the variable use this notation\n",
    "print(distances[\"P1P2\"])\n",
    "print(versors[\"nP1P2\"])"
   ]
  },
  {
   "cell_type": "code",
   "execution_count": null,
   "metadata": {},
   "outputs": [
    {
     "ename": "",
     "evalue": "",
     "output_type": "error",
     "traceback": [
      "\u001b[1;31mnotebook controller is DISPOSED. \n",
      "\u001b[1;31mView Jupyter <a href='command:jupyter.viewOutput'>log</a> for further details."
     ]
    },
    {
     "ename": "",
     "evalue": "",
     "output_type": "error",
     "traceback": [
      "\u001b[1;31mnotebook controller is DISPOSED. \n",
      "\u001b[1;31mView Jupyter <a href='command:jupyter.viewOutput'>log</a> for further details."
     ]
    }
   ],
   "source": []
  }
 ],
 "metadata": {
  "kernelspec": {
   "display_name": "Project_1",
   "language": "python",
   "name": "python3"
  },
  "language_info": {
   "codemirror_mode": {
    "name": "ipython",
    "version": 3
   },
   "file_extension": ".py",
   "mimetype": "text/x-python",
   "name": "python",
   "nbconvert_exporter": "python",
   "pygments_lexer": "ipython3",
   "version": "3.12.2"
  }
 },
 "nbformat": 4,
 "nbformat_minor": 2
}
