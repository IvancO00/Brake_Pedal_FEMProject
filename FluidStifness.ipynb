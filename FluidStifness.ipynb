{
 "cells": [
  {
   "cell_type": "markdown",
   "metadata": {},
   "source": [
    "# Fluid stifness and eqivalent stifness"
   ]
  },
  {
   "cell_type": "code",
   "execution_count": 37,
   "metadata": {},
   "outputs": [],
   "source": [
    "%reset -f\n",
    "import matplotlib.pyplot as plt\n",
    "import numpy as np"
   ]
  },
  {
   "cell_type": "markdown",
   "metadata": {},
   "source": [
    "## Stifness of oil circuit"
   ]
  },
  {
   "cell_type": "code",
   "execution_count": 38,
   "metadata": {},
   "outputs": [
    {
     "name": "stdout",
     "output_type": "stream",
     "text": [
      "Rear oil stifness 4169220.176949629\n",
      "front oil stifness 6132807.738827755\n",
      "Equivalent oil stifness 2481.9410290002197 N/mm\n"
     ]
    }
   ],
   "source": [
    "rho = 1e9                       #Bulk modulus [Pa]\n",
    "d_pipe = 0.005;                 #[m]\n",
    "A_pipe = (np.pi*d_pipe**2)/4    #m^2\n",
    "\n",
    "l_pipe_rear = 2.5;              #[m]\n",
    "l_pipe_front = 1.2;             #[m]\n",
    "\n",
    "V_pipe_rear = A_pipe*l_pipe_rear\n",
    "V_pipe_front = A_pipe*l_pipe_front\n",
    "\n",
    "#Pump data\n",
    "d_rear = 0.024                  #[m]\n",
    "d_front = 0.022                 #[m]\n",
    "A_pump_rear = (np.pi*d_rear**2)/4 \n",
    "A_pump_front = (np.pi*d_front**2)/4   \n",
    "\n",
    "k_rear = A_pump_rear**2*rho/V_pipe_rear\n",
    "k_front = A_pump_front**2*rho/V_pipe_front\n",
    "\n",
    "\n",
    "print(\"Rear oil stifness\",k_rear)\n",
    "print(\"front oil stifness\",k_front)\n",
    "\n",
    "k_equivalent = (k_rear*k_front/(k_rear+k_front))/1000\n",
    "print(\"Equivalent oil stifness\",k_equivalent,\"N/mm\")"
   ]
  },
  {
   "cell_type": "markdown",
   "metadata": {},
   "source": [
    "## Equivalent Element Stifness"
   ]
  },
  {
   "cell_type": "code",
   "execution_count": 41,
   "metadata": {},
   "outputs": [
    {
     "name": "stdout",
     "output_type": "stream",
     "text": [
      "Piston lenght 237.3151661820205 [mm]\n",
      "Equivalent crossection area: 8.414317825016603 [mm]\n"
     ]
    }
   ],
   "source": [
    "E = 70000\n",
    "x1 = -24\n",
    "y1 = 225.53\n",
    "x2 = 40.40\n",
    "y2 = -2.88\n",
    "\n",
    "l = np.sqrt((x2-x1)**2 + (y2-y1)**2)\n",
    "print(\"Piston lenght\",l,\"[mm]\")\n",
    "\n",
    "A = (k_equivalent)*l/E\n",
    "print(\"Equivalent crossection area:\",A,\"[mm]\")\n"
   ]
  }
 ],
 "metadata": {
  "kernelspec": {
   "display_name": "Python 3",
   "language": "python",
   "name": "python3"
  },
  "language_info": {
   "codemirror_mode": {
    "name": "ipython",
    "version": 3
   },
   "file_extension": ".py",
   "mimetype": "text/x-python",
   "name": "python",
   "nbconvert_exporter": "python",
   "pygments_lexer": "ipython3",
   "version": "3.12.2"
  }
 },
 "nbformat": 4,
 "nbformat_minor": 2
}
